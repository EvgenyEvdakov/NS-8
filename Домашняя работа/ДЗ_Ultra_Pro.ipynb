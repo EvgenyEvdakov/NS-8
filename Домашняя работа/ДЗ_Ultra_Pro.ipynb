{
  "nbformat": 4,
  "nbformat_minor": 0,
  "metadata": {
    "colab": {
      "provenance": []
    },
    "kernelspec": {
      "name": "python3",
      "display_name": "Python 3"
    },
    "language_info": {
      "name": "python"
    },
    "accelerator": "GPU"
  },
  "cells": [
    {
      "cell_type": "markdown",
      "metadata": {
        "id": "ia9OUPn4fjFP"
      },
      "source": [
        "1. Ознакомьтесь с датасетом образцов эмоциональной речи\n",
        "\n",
        "    **Toronto emotional speech set (TESS)**:\n",
        "\n",
        "    https://dataverse.scholarsportal.info/dataset.xhtml?persistentId=doi:10.5683/SP2/E8H2MF\n",
        "\n",
        "    Ссылка для загрузки данных: https://storage.yandexcloud.net/aiueducation/Content/base/l12/dataverse_files.zip\n",
        "\n",
        "2. Разберите датасет;\n",
        "3. Подготовьте и разделите данные на обучающие и тестовые;\n",
        "4. Разработайте классификатор, показывающий на тесте точность распознавания эмоции не менее 98%;\n",
        "5. Ознакомьтесь с другим датасетом похожего содержания\n",
        "\n",
        "    **Surrey Audio-Visual Expressed Emotion (SAVEE)**:\n",
        "\n",
        "    https://www.kaggle.com/ejlok1/surrey-audiovisual-expressed-emotion-savee\n",
        "\n",
        "    Ссылка для загрузки данных: https://storage.yandexcloud.net/aiueducation/Content/base/l12/archive.zip\n",
        "\n",
        "6. Прогоните обученный классификатор на файлах из датасета **SAVEE** по вашему выбору;\n",
        "7. Сделайте выводы."
      ]
    },
    {
      "cell_type": "markdown",
      "source": [
        "# Импорт необходимых библиотек\n",
        "\n",
        "В этом блоке мы подключаем все необходимые библиотеки и модули, которые понадобятся для выполнения задания по классификации эмоций из аудиодатасетов.\n",
        "\n",
        "Стандартные библиотеки Python:\n",
        "\n",
        "- os — для работы с файловой системой (поиск, чтение, организация файлов).\n",
        "\n",
        "- random — для генерации случайных чисел, используется для перемешивания данных.\n",
        "\n",
        "- re — для работы с регулярными выражениями, полезно при парсинге названий файлов.\n",
        "\n",
        "- zipfile — для распаковки архивов с данными.\n",
        "\n",
        "Внешние библиотеки для работы с аудио и данными:\n",
        "\n",
        "- gdown — утилита для скачивания файлов с Google Drive по ссылке.\n",
        "\n",
        "- librosa — мощная библиотека для анализа и обработки аудио, используется для извлечения признаков (например, MFCC) из звуковых файлов.\n",
        "\n",
        "- matplotlib.pyplot и seaborn — библиотеки для визуализации данных и построения графиков, которые помогут проанализировать датасеты и результаты.\n",
        "\n",
        "- numpy — основной пакет для численных вычислений и работы с массивами.\n",
        "\n",
        "Инструменты для машинного обучения:\n",
        "- sklearn.metrics (accuracy_score, classification_report, confusion_matrix) — метрики для оценки качества модели.\n",
        "\n",
        "- sklearn.model_selection.train_test_split — для разделения данных на обучающую и тестовую выборки.\n",
        "\n",
        "- sklearn.preprocessing.StandardScaler — для нормализации признаков, улучшения обучения модели.\n",
        "\n",
        "Фреймворк для создания нейронных сетей:\n",
        "\n",
        "- tensorflow.keras.models.Sequential — для создания последовательной модели нейросети.\n",
        "\n",
        "- tensorflow.keras.layers.Dense, Dropout — основные слои нейронной сети.\n",
        "\n",
        "- tensorflow.keras.utils.to_categorical — преобразование меток в формат one-hot encoding для классификации."
      ],
      "metadata": {
        "id": "IHM0qJsNQf7o"
      }
    },
    {
      "cell_type": "code",
      "source": [
        "import os\n",
        "import random\n",
        "import re\n",
        "import warnings\n",
        "import zipfile\n",
        "\n",
        "import gdown\n",
        "import librosa\n",
        "import matplotlib.pyplot as plt\n",
        "import numpy as np\n",
        "import seaborn as sns\n",
        "from sklearn.metrics import accuracy_score, classification_report, confusion_matrix\n",
        "from sklearn.model_selection import train_test_split\n",
        "from sklearn.preprocessing import StandardScaler\n",
        "from tensorflow.keras.layers import Dense, Dropout\n",
        "from tensorflow.keras.models import Sequential\n",
        "from tensorflow.keras.utils import to_categorical\n",
        "\n",
        "# Отключение предупреждений\n",
        "warnings.filterwarnings('ignore')"
      ],
      "metadata": {
        "id": "cXWD68ZsuYDj"
      },
      "execution_count": 1,
      "outputs": []
    },
    {
      "cell_type": "markdown",
      "source": [
        "**Загрузка данных**\n",
        "\n",
        "Этот блок команды запускает загрузку файла архива dataverse_files.zip с помощью утилиты gdown, которая скачивает файл по указанной ссылке из интернета. Затем проверяется, существует ли директория dataverse_files. Если такой папки нет, то архив dataverse_files.zip открывается с помощью модуля zipfile, и его содержимое распаковывается в текущую директорию."
      ],
      "metadata": {
        "id": "Py4ICywgQXlI"
      }
    },
    {
      "cell_type": "code",
      "source": [
        "# Скачиваем архив\n",
        "if not os.path.exists('dataverse_files.zip'):\n",
        "    gdown.download('https://storage.yandexcloud.net/aiueducation/Content/base/l12/dataverse_files.zip',\n",
        "                   'dataverse_files.zip', quiet=True)\n",
        "\n",
        "# Распаковываем архив\n",
        "if not os.path.exists('dataverse_files'):\n",
        "    with zipfile.ZipFile('dataverse_files.zip', 'r') as zip_ref:\n",
        "        zip_ref.extractall()"
      ],
      "metadata": {
        "id": "BTVbBGReSOVF"
      },
      "execution_count": 2,
      "outputs": []
    },
    {
      "cell_type": "markdown",
      "source": [
        "**Загрузка и обработка аудиофайлов**\n",
        "\n",
        "В этом блоке мы подготавливаем данные из датасета TESS:\n",
        "\n",
        "- Задаём путь к папке с файлами и определяем словарь с эмоциями и их числовыми метками.\n",
        "\n",
        "- Получаем список всех .wav файлов.\n",
        "\n",
        "Для каждого файла:\n",
        "\n",
        "- Извлекаем название эмоции из имени.\n",
        "\n",
        "- Загружаем аудио с помощью librosa.\n",
        "\n",
        "- Вычисляем MFCC-признаки, которые описывают звук.\n",
        "\n",
        "- Усредняем признаки по времени, чтобы получить вектор фиксированной длины.\n",
        "\n",
        "- Добавляем в список признаков X и соответствующую метку в y.\n",
        "\n",
        "В конце данные преобразуются в массивы NumPy"
      ],
      "metadata": {
        "id": "8oWWQb-ARka7"
      }
    },
    {
      "cell_type": "code",
      "source": [
        "DATA_DIR = \"/content\"\n",
        "\n",
        "# Словарь соответствия эмоциям\n",
        "EMOTIONS = {\n",
        "    'angry': 0,\n",
        "    'disgust': 1,\n",
        "    'fear': 2,\n",
        "    'happy': 3,\n",
        "    'neutral': 4,\n",
        "    'ps': 5,  # pleasant surprise\n",
        "    'sad': 6\n",
        "}\n",
        "\n",
        "X = []\n",
        "y = []\n",
        "\n",
        "# Получаем список всех wav-файлов\n",
        "wav_files = [f for f in os.listdir(DATA_DIR) if f.endswith('.wav')]\n",
        "\n",
        "# Обрабатываем каждый файл\n",
        "for filename in wav_files:\n",
        "    # Извлечение метки эмоции из имени файла\n",
        "    parts = filename.split('_')\n",
        "    emotion_code = parts[-1].split('.')[0]  # например: angry из OAF_back_angry.wav\n",
        "    label = EMOTIONS.get(emotion_code.lower())\n",
        "\n",
        "    # Пропускаем, если эмоция не определена\n",
        "    if label is None:\n",
        "        continue\n",
        "\n",
        "    # Полный путь к файлу\n",
        "    full_path = os.path.join(DATA_DIR, filename)\n",
        "\n",
        "    # Загрузка аудиофайла\n",
        "    audio_data, sample_rate = librosa.load(full_path, sr=22050)\n",
        "\n",
        "    # Извлечение MFCC признаков\n",
        "    mfccs = librosa.feature.mfcc(y=audio_data, sr=sample_rate, n_mfcc=40)\n",
        "\n",
        "    # Усреднение по временным кадрам\n",
        "    mfcc_avg = np.mean(mfccs.T, axis=0)\n",
        "\n",
        "    # Добавление в выборку\n",
        "    X.append(mfcc_avg)\n",
        "    y.append(label)\n",
        "\n",
        "# Преобразуем списки в массивы NumPy\n",
        "X = np.array(X)\n",
        "y = np.array(y)"
      ],
      "metadata": {
        "id": "RsqrHHL6S3rW"
      },
      "execution_count": 3,
      "outputs": []
    },
    {
      "cell_type": "markdown",
      "source": [
        "**Разделение данных на обучающую и тестовую выборки**\n",
        "\n",
        "Этот код делит данные на две части:\n",
        "\n",
        "- 80% — для обучения модели (X_train, y_train);\n",
        "\n",
        "- 20% — для проверки её точности (X_test, y_test).\n",
        "\n",
        "Параметр stratify=y гарантирует, что все эмоции равномерно представлены в обеих частях.\n",
        "random_state=42 нужен для того, чтобы результат был стабильным при повторных запусках."
      ],
      "metadata": {
        "id": "vHmBQbpyR-Uj"
      }
    },
    {
      "cell_type": "code",
      "source": [
        "# Разбиваем данные на обучающую и тестовую выборки\n",
        "X_train, X_test, y_train, y_test = train_test_split(\n",
        "    X, y, test_size=0.2, random_state=42, stratify=y\n",
        ")"
      ],
      "metadata": {
        "id": "YFVUglkQS-Zv"
      },
      "execution_count": 4,
      "outputs": []
    },
    {
      "cell_type": "markdown",
      "source": [
        "**Масштабирование данных и кодирование меток**\n",
        "\n",
        "Сначала применяем StandardScaler для нормализации признаков:\n",
        "\n",
        "- fit_transform обучает масштабатор на обучающих данных и преобразует их.\n",
        "\n",
        "- transform применяется к тестовым данным с теми же параметрами.\n",
        "\n",
        "Это помогает модели учиться быстрее и стабильнее.\n",
        "\n",
        "- Затем выполняем one-hot кодирование меток (to_categorical):\n",
        "\n",
        "- Преобразуем числовые метки эмоций (например, 0, 1, 2, ...) в формат, подходящий для многоклассовой классификации нейросетью."
      ],
      "metadata": {
        "id": "NvJ_0pR3SVjh"
      }
    },
    {
      "cell_type": "code",
      "source": [
        "# Масштабирование признаков\n",
        "scaler = StandardScaler()\n",
        "X_train_scaled = scaler.fit_transform(X_train)\n",
        "X_test_scaled = scaler.transform(X_test)\n",
        "\n",
        "# One-hot кодирование меток\n",
        "y_train_cat = to_categorical(y_train)\n",
        "y_test_cat = to_categorical(y_test)"
      ],
      "metadata": {
        "id": "TkTfSCglTcCQ"
      },
      "execution_count": 5,
      "outputs": []
    },
    {
      "cell_type": "markdown",
      "source": [
        "# Построение и компиляция модели\n",
        "\n",
        "В этом блоке создаётся простая нейросеть для классификации эмоций:\n",
        "\n",
        "Модель Sequential — используется последовательная архитектура.\n",
        "\n",
        "Слои:\n",
        "\n",
        "- Dense(256, relu) — первый полносвязный слой с 256 нейронами.\n",
        "\n",
        "- Dropout(0.3) — выключает 30% нейронов во время обучения, чтобы избежать переобучения.\n",
        "\n",
        "- Dense(128, relu) и Dropout(0.3) — второй уровень с меньшим количеством нейронов.\n",
        "\n",
        "- Dense(64, relu) — третий скрытый слой.\n",
        "\n",
        "- Dense(7, softmax) — выходной слой на 7 классов (эмоций), softmax превращает выходы в вероятности.\n",
        "\n",
        "Компиляция модели:\n",
        "\n",
        "- optimizer='adam' — оптимизатор, хорошо подходит для большинства задач.\n",
        "\n",
        "- loss='categorical_crossentropy' — функция потерь для многоклассовой классификации.\n",
        "\n",
        "- metrics=['accuracy'] — метрика точности, по которой будем следить за качеством модели.\n",
        "\n",
        "model.summary() выводит краткую информацию о слоях и количестве параметров."
      ],
      "metadata": {
        "id": "CV-SY2_aSbni"
      }
    },
    {
      "cell_type": "code",
      "source": [
        "# Создаем последовательную нейронную сеть\n",
        "model = Sequential([\n",
        "    Dense(256, activation='relu', input_shape=(X_train_scaled.shape[1],)),\n",
        "    Dropout(0.3),\n",
        "    Dense(128, activation='relu'),\n",
        "    Dropout(0.3),\n",
        "    Dense(64, activation='relu'),\n",
        "    Dense(7, activation='softmax')\n",
        "])\n",
        "\n",
        "# Компилируем модель\n",
        "model.compile(optimizer='adam', loss='categorical_crossentropy', metrics=['accuracy'])\n",
        "model.summary()"
      ],
      "metadata": {
        "colab": {
          "base_uri": "https://localhost:8080/",
          "height": 321
        },
        "id": "G59pdVMETeGS",
        "outputId": "0706f9ce-85f4-4427-805a-0f30f932a609"
      },
      "execution_count": 6,
      "outputs": [
        {
          "output_type": "display_data",
          "data": {
            "text/plain": [
              "\u001b[1mModel: \"sequential\"\u001b[0m\n"
            ],
            "text/html": [
              "<pre style=\"white-space:pre;overflow-x:auto;line-height:normal;font-family:Menlo,'DejaVu Sans Mono',consolas,'Courier New',monospace\"><span style=\"font-weight: bold\">Model: \"sequential\"</span>\n",
              "</pre>\n"
            ]
          },
          "metadata": {}
        },
        {
          "output_type": "display_data",
          "data": {
            "text/plain": [
              "┏━━━━━━━━━━━━━━━━━━━━━━━━━━━━━━━━━┳━━━━━━━━━━━━━━━━━━━━━━━━┳━━━━━━━━━━━━━━━┓\n",
              "┃\u001b[1m \u001b[0m\u001b[1mLayer (type)                   \u001b[0m\u001b[1m \u001b[0m┃\u001b[1m \u001b[0m\u001b[1mOutput Shape          \u001b[0m\u001b[1m \u001b[0m┃\u001b[1m \u001b[0m\u001b[1m      Param #\u001b[0m\u001b[1m \u001b[0m┃\n",
              "┡━━━━━━━━━━━━━━━━━━━━━━━━━━━━━━━━━╇━━━━━━━━━━━━━━━━━━━━━━━━╇━━━━━━━━━━━━━━━┩\n",
              "│ dense (\u001b[38;5;33mDense\u001b[0m)                   │ (\u001b[38;5;45mNone\u001b[0m, \u001b[38;5;34m256\u001b[0m)            │        \u001b[38;5;34m10,496\u001b[0m │\n",
              "├─────────────────────────────────┼────────────────────────┼───────────────┤\n",
              "│ dropout (\u001b[38;5;33mDropout\u001b[0m)               │ (\u001b[38;5;45mNone\u001b[0m, \u001b[38;5;34m256\u001b[0m)            │             \u001b[38;5;34m0\u001b[0m │\n",
              "├─────────────────────────────────┼────────────────────────┼───────────────┤\n",
              "│ dense_1 (\u001b[38;5;33mDense\u001b[0m)                 │ (\u001b[38;5;45mNone\u001b[0m, \u001b[38;5;34m128\u001b[0m)            │        \u001b[38;5;34m32,896\u001b[0m │\n",
              "├─────────────────────────────────┼────────────────────────┼───────────────┤\n",
              "│ dropout_1 (\u001b[38;5;33mDropout\u001b[0m)             │ (\u001b[38;5;45mNone\u001b[0m, \u001b[38;5;34m128\u001b[0m)            │             \u001b[38;5;34m0\u001b[0m │\n",
              "├─────────────────────────────────┼────────────────────────┼───────────────┤\n",
              "│ dense_2 (\u001b[38;5;33mDense\u001b[0m)                 │ (\u001b[38;5;45mNone\u001b[0m, \u001b[38;5;34m64\u001b[0m)             │         \u001b[38;5;34m8,256\u001b[0m │\n",
              "├─────────────────────────────────┼────────────────────────┼───────────────┤\n",
              "│ dense_3 (\u001b[38;5;33mDense\u001b[0m)                 │ (\u001b[38;5;45mNone\u001b[0m, \u001b[38;5;34m7\u001b[0m)              │           \u001b[38;5;34m455\u001b[0m │\n",
              "└─────────────────────────────────┴────────────────────────┴───────────────┘\n"
            ],
            "text/html": [
              "<pre style=\"white-space:pre;overflow-x:auto;line-height:normal;font-family:Menlo,'DejaVu Sans Mono',consolas,'Courier New',monospace\">┏━━━━━━━━━━━━━━━━━━━━━━━━━━━━━━━━━┳━━━━━━━━━━━━━━━━━━━━━━━━┳━━━━━━━━━━━━━━━┓\n",
              "┃<span style=\"font-weight: bold\"> Layer (type)                    </span>┃<span style=\"font-weight: bold\"> Output Shape           </span>┃<span style=\"font-weight: bold\">       Param # </span>┃\n",
              "┡━━━━━━━━━━━━━━━━━━━━━━━━━━━━━━━━━╇━━━━━━━━━━━━━━━━━━━━━━━━╇━━━━━━━━━━━━━━━┩\n",
              "│ dense (<span style=\"color: #0087ff; text-decoration-color: #0087ff\">Dense</span>)                   │ (<span style=\"color: #00d7ff; text-decoration-color: #00d7ff\">None</span>, <span style=\"color: #00af00; text-decoration-color: #00af00\">256</span>)            │        <span style=\"color: #00af00; text-decoration-color: #00af00\">10,496</span> │\n",
              "├─────────────────────────────────┼────────────────────────┼───────────────┤\n",
              "│ dropout (<span style=\"color: #0087ff; text-decoration-color: #0087ff\">Dropout</span>)               │ (<span style=\"color: #00d7ff; text-decoration-color: #00d7ff\">None</span>, <span style=\"color: #00af00; text-decoration-color: #00af00\">256</span>)            │             <span style=\"color: #00af00; text-decoration-color: #00af00\">0</span> │\n",
              "├─────────────────────────────────┼────────────────────────┼───────────────┤\n",
              "│ dense_1 (<span style=\"color: #0087ff; text-decoration-color: #0087ff\">Dense</span>)                 │ (<span style=\"color: #00d7ff; text-decoration-color: #00d7ff\">None</span>, <span style=\"color: #00af00; text-decoration-color: #00af00\">128</span>)            │        <span style=\"color: #00af00; text-decoration-color: #00af00\">32,896</span> │\n",
              "├─────────────────────────────────┼────────────────────────┼───────────────┤\n",
              "│ dropout_1 (<span style=\"color: #0087ff; text-decoration-color: #0087ff\">Dropout</span>)             │ (<span style=\"color: #00d7ff; text-decoration-color: #00d7ff\">None</span>, <span style=\"color: #00af00; text-decoration-color: #00af00\">128</span>)            │             <span style=\"color: #00af00; text-decoration-color: #00af00\">0</span> │\n",
              "├─────────────────────────────────┼────────────────────────┼───────────────┤\n",
              "│ dense_2 (<span style=\"color: #0087ff; text-decoration-color: #0087ff\">Dense</span>)                 │ (<span style=\"color: #00d7ff; text-decoration-color: #00d7ff\">None</span>, <span style=\"color: #00af00; text-decoration-color: #00af00\">64</span>)             │         <span style=\"color: #00af00; text-decoration-color: #00af00\">8,256</span> │\n",
              "├─────────────────────────────────┼────────────────────────┼───────────────┤\n",
              "│ dense_3 (<span style=\"color: #0087ff; text-decoration-color: #0087ff\">Dense</span>)                 │ (<span style=\"color: #00d7ff; text-decoration-color: #00d7ff\">None</span>, <span style=\"color: #00af00; text-decoration-color: #00af00\">7</span>)              │           <span style=\"color: #00af00; text-decoration-color: #00af00\">455</span> │\n",
              "└─────────────────────────────────┴────────────────────────┴───────────────┘\n",
              "</pre>\n"
            ]
          },
          "metadata": {}
        },
        {
          "output_type": "display_data",
          "data": {
            "text/plain": [
              "\u001b[1m Total params: \u001b[0m\u001b[38;5;34m52,103\u001b[0m (203.53 KB)\n"
            ],
            "text/html": [
              "<pre style=\"white-space:pre;overflow-x:auto;line-height:normal;font-family:Menlo,'DejaVu Sans Mono',consolas,'Courier New',monospace\"><span style=\"font-weight: bold\"> Total params: </span><span style=\"color: #00af00; text-decoration-color: #00af00\">52,103</span> (203.53 KB)\n",
              "</pre>\n"
            ]
          },
          "metadata": {}
        },
        {
          "output_type": "display_data",
          "data": {
            "text/plain": [
              "\u001b[1m Trainable params: \u001b[0m\u001b[38;5;34m52,103\u001b[0m (203.53 KB)\n"
            ],
            "text/html": [
              "<pre style=\"white-space:pre;overflow-x:auto;line-height:normal;font-family:Menlo,'DejaVu Sans Mono',consolas,'Courier New',monospace\"><span style=\"font-weight: bold\"> Trainable params: </span><span style=\"color: #00af00; text-decoration-color: #00af00\">52,103</span> (203.53 KB)\n",
              "</pre>\n"
            ]
          },
          "metadata": {}
        },
        {
          "output_type": "display_data",
          "data": {
            "text/plain": [
              "\u001b[1m Non-trainable params: \u001b[0m\u001b[38;5;34m0\u001b[0m (0.00 B)\n"
            ],
            "text/html": [
              "<pre style=\"white-space:pre;overflow-x:auto;line-height:normal;font-family:Menlo,'DejaVu Sans Mono',consolas,'Courier New',monospace\"><span style=\"font-weight: bold\"> Non-trainable params: </span><span style=\"color: #00af00; text-decoration-color: #00af00\">0</span> (0.00 B)\n",
              "</pre>\n"
            ]
          },
          "metadata": {}
        }
      ]
    },
    {
      "cell_type": "markdown",
      "source": [
        "**Обучение модели**\n",
        "\n",
        "model.fit() запускает процесс обучения на данных.\n",
        "\n",
        "Параметры:\n",
        "\n",
        "- X_train_scaled, y_train_cat — обучающая выборка.\n",
        "\n",
        "- validation_data=(X_test_scaled, y_test_cat) — валидационная выборка (используется для оценки модели после каждой эпохи).\n",
        "\n",
        "- epochs=50 — модель обучается в 50 циклов (эпох).\n",
        "\n",
        "- batch_size=32 — за одну итерацию обрабатываются 32 примера.\n",
        "\n",
        "- verbose=1 — отображает прогресс обучения в консоли."
      ],
      "metadata": {
        "id": "lqcP9ywTS8GJ"
      }
    },
    {
      "cell_type": "code",
      "source": [
        "# Обучение модели\n",
        "history = model.fit(\n",
        "    X_train_scaled, y_train_cat,\n",
        "    epochs=50,\n",
        "    batch_size=32,\n",
        "    validation_data=(X_test_scaled, y_test_cat),\n",
        "    verbose=1\n",
        ")"
      ],
      "metadata": {
        "colab": {
          "base_uri": "https://localhost:8080/"
        },
        "id": "mMmeq0hCTga8",
        "outputId": "bacf28f8-4cd0-4979-fe0e-cd95274b86fc"
      },
      "execution_count": null,
      "outputs": [
        {
          "output_type": "stream",
          "name": "stdout",
          "text": [
            "Epoch 1/50\n",
            "\u001b[1m70/70\u001b[0m \u001b[32m━━━━━━━━━━━━━━━━━━━━\u001b[0m\u001b[37m\u001b[0m \u001b[1m3s\u001b[0m 11ms/step - accuracy: 0.5496 - loss: 1.2862 - val_accuracy: 0.9839 - val_loss: 0.0997\n",
            "Epoch 2/50\n",
            "\u001b[1m70/70\u001b[0m \u001b[32m━━━━━━━━━━━━━━━━━━━━\u001b[0m\u001b[37m\u001b[0m \u001b[1m0s\u001b[0m 4ms/step - accuracy: 0.9761 - loss: 0.1123 - val_accuracy: 0.9946 - val_loss: 0.0220\n",
            "Epoch 3/50\n",
            "\u001b[1m70/70\u001b[0m \u001b[32m━━━━━━━━━━━━━━━━━━━━\u001b[0m\u001b[37m\u001b[0m \u001b[1m1s\u001b[0m 6ms/step - accuracy: 0.9912 - loss: 0.0470 - val_accuracy: 0.9982 - val_loss: 0.0121\n",
            "Epoch 4/50\n",
            "\u001b[1m70/70\u001b[0m \u001b[32m━━━━━━━━━━━━━━━━━━━━\u001b[0m\u001b[37m\u001b[0m \u001b[1m0s\u001b[0m 6ms/step - accuracy: 0.9887 - loss: 0.0391 - val_accuracy: 0.9982 - val_loss: 0.0148\n",
            "Epoch 5/50\n",
            "\u001b[1m70/70\u001b[0m \u001b[32m━━━━━━━━━━━━━━━━━━━━\u001b[0m\u001b[37m\u001b[0m \u001b[1m1s\u001b[0m 5ms/step - accuracy: 0.9899 - loss: 0.0292 - val_accuracy: 0.9929 - val_loss: 0.0193\n",
            "Epoch 6/50\n",
            "\u001b[1m70/70\u001b[0m \u001b[32m━━━━━━━━━━━━━━━━━━━━\u001b[0m\u001b[37m\u001b[0m \u001b[1m0s\u001b[0m 3ms/step - accuracy: 0.9936 - loss: 0.0176 - val_accuracy: 1.0000 - val_loss: 0.0040\n",
            "Epoch 7/50\n",
            "\u001b[1m70/70\u001b[0m \u001b[32m━━━━━━━━━━━━━━━━━━━━\u001b[0m\u001b[37m\u001b[0m \u001b[1m0s\u001b[0m 3ms/step - accuracy: 0.9958 - loss: 0.0134 - val_accuracy: 1.0000 - val_loss: 0.0032\n",
            "Epoch 8/50\n",
            "\u001b[1m70/70\u001b[0m \u001b[32m━━━━━━━━━━━━━━━━━━━━\u001b[0m\u001b[37m\u001b[0m \u001b[1m0s\u001b[0m 4ms/step - accuracy: 0.9955 - loss: 0.0168 - val_accuracy: 0.9982 - val_loss: 0.0061\n",
            "Epoch 9/50\n",
            "\u001b[1m70/70\u001b[0m \u001b[32m━━━━━━━━━━━━━━━━━━━━\u001b[0m\u001b[37m\u001b[0m \u001b[1m0s\u001b[0m 4ms/step - accuracy: 0.9968 - loss: 0.0083 - val_accuracy: 1.0000 - val_loss: 0.0011\n",
            "Epoch 10/50\n",
            "\u001b[1m70/70\u001b[0m \u001b[32m━━━━━━━━━━━━━━━━━━━━\u001b[0m\u001b[37m\u001b[0m \u001b[1m0s\u001b[0m 4ms/step - accuracy: 0.9977 - loss: 0.0082 - val_accuracy: 1.0000 - val_loss: 7.3794e-04\n",
            "Epoch 11/50\n",
            "\u001b[1m70/70\u001b[0m \u001b[32m━━━━━━━━━━━━━━━━━━━━\u001b[0m\u001b[37m\u001b[0m \u001b[1m0s\u001b[0m 4ms/step - accuracy: 1.0000 - loss: 0.0035 - val_accuracy: 1.0000 - val_loss: 4.1060e-04\n",
            "Epoch 12/50\n",
            "\u001b[1m70/70\u001b[0m \u001b[32m━━━━━━━━━━━━━━━━━━━━\u001b[0m\u001b[37m\u001b[0m \u001b[1m0s\u001b[0m 4ms/step - accuracy: 0.9987 - loss: 0.0068 - val_accuracy: 1.0000 - val_loss: 0.0012\n",
            "Epoch 13/50\n",
            "\u001b[1m70/70\u001b[0m \u001b[32m━━━━━━━━━━━━━━━━━━━━\u001b[0m\u001b[37m\u001b[0m \u001b[1m0s\u001b[0m 4ms/step - accuracy: 0.9948 - loss: 0.0143 - val_accuracy: 0.9982 - val_loss: 0.0105\n",
            "Epoch 14/50\n",
            "\u001b[1m70/70\u001b[0m \u001b[32m━━━━━━━━━━━━━━━━━━━━\u001b[0m\u001b[37m\u001b[0m \u001b[1m0s\u001b[0m 4ms/step - accuracy: 0.9974 - loss: 0.0098 - val_accuracy: 1.0000 - val_loss: 0.0017\n",
            "Epoch 15/50\n",
            "\u001b[1m70/70\u001b[0m \u001b[32m━━━━━━━━━━━━━━━━━━━━\u001b[0m\u001b[37m\u001b[0m \u001b[1m0s\u001b[0m 4ms/step - accuracy: 0.9964 - loss: 0.0084 - val_accuracy: 1.0000 - val_loss: 4.5655e-04\n",
            "Epoch 16/50\n",
            "\u001b[1m70/70\u001b[0m \u001b[32m━━━━━━━━━━━━━━━━━━━━\u001b[0m\u001b[37m\u001b[0m \u001b[1m0s\u001b[0m 4ms/step - accuracy: 0.9987 - loss: 0.0055 - val_accuracy: 1.0000 - val_loss: 4.8971e-04\n",
            "Epoch 17/50\n",
            "\u001b[1m70/70\u001b[0m \u001b[32m━━━━━━━━━━━━━━━━━━━━\u001b[0m\u001b[37m\u001b[0m \u001b[1m0s\u001b[0m 3ms/step - accuracy: 0.9984 - loss: 0.0101 - val_accuracy: 1.0000 - val_loss: 0.0013\n",
            "Epoch 18/50\n",
            "\u001b[1m70/70\u001b[0m \u001b[32m━━━━━━━━━━━━━━━━━━━━\u001b[0m\u001b[37m\u001b[0m \u001b[1m0s\u001b[0m 4ms/step - accuracy: 0.9986 - loss: 0.0047 - val_accuracy: 1.0000 - val_loss: 8.9171e-04\n",
            "Epoch 19/50\n",
            "\u001b[1m70/70\u001b[0m \u001b[32m━━━━━━━━━━━━━━━━━━━━\u001b[0m\u001b[37m\u001b[0m \u001b[1m0s\u001b[0m 4ms/step - accuracy: 1.0000 - loss: 0.0025 - val_accuracy: 1.0000 - val_loss: 3.9451e-04\n",
            "Epoch 20/50\n",
            "\u001b[1m70/70\u001b[0m \u001b[32m━━━━━━━━━━━━━━━━━━━━\u001b[0m\u001b[37m\u001b[0m \u001b[1m0s\u001b[0m 4ms/step - accuracy: 0.9987 - loss: 0.0038 - val_accuracy: 0.9982 - val_loss: 0.0024\n",
            "Epoch 21/50\n",
            "\u001b[1m70/70\u001b[0m \u001b[32m━━━━━━━━━━━━━━━━━━━━\u001b[0m\u001b[37m\u001b[0m \u001b[1m0s\u001b[0m 3ms/step - accuracy: 0.9952 - loss: 0.0116 - val_accuracy: 1.0000 - val_loss: 7.9585e-04\n",
            "Epoch 22/50\n",
            "\u001b[1m70/70\u001b[0m \u001b[32m━━━━━━━━━━━━━━━━━━━━\u001b[0m\u001b[37m\u001b[0m \u001b[1m0s\u001b[0m 3ms/step - accuracy: 0.9939 - loss: 0.0118 - val_accuracy: 1.0000 - val_loss: 6.9253e-04\n",
            "Epoch 23/50\n",
            "\u001b[1m70/70\u001b[0m \u001b[32m━━━━━━━━━━━━━━━━━━━━\u001b[0m\u001b[37m\u001b[0m \u001b[1m0s\u001b[0m 4ms/step - accuracy: 0.9999 - loss: 0.0017 - val_accuracy: 1.0000 - val_loss: 9.3891e-04\n",
            "Epoch 24/50\n",
            "\u001b[1m70/70\u001b[0m \u001b[32m━━━━━━━━━━━━━━━━━━━━\u001b[0m\u001b[37m\u001b[0m \u001b[1m0s\u001b[0m 3ms/step - accuracy: 0.9992 - loss: 0.0034 - val_accuracy: 1.0000 - val_loss: 4.6074e-04\n",
            "Epoch 25/50\n",
            "\u001b[1m70/70\u001b[0m \u001b[32m━━━━━━━━━━━━━━━━━━━━\u001b[0m\u001b[37m\u001b[0m \u001b[1m0s\u001b[0m 3ms/step - accuracy: 0.9995 - loss: 0.0017 - val_accuracy: 1.0000 - val_loss: 6.8855e-04\n",
            "Epoch 26/50\n",
            "\u001b[1m70/70\u001b[0m \u001b[32m━━━━━━━━━━━━━━━━━━━━\u001b[0m\u001b[37m\u001b[0m \u001b[1m0s\u001b[0m 3ms/step - accuracy: 1.0000 - loss: 0.0013 - val_accuracy: 1.0000 - val_loss: 9.8769e-04\n",
            "Epoch 27/50\n",
            "\u001b[1m70/70\u001b[0m \u001b[32m━━━━━━━━━━━━━━━━━━━━\u001b[0m\u001b[37m\u001b[0m \u001b[1m0s\u001b[0m 4ms/step - accuracy: 0.9997 - loss: 0.0021 - val_accuracy: 0.9982 - val_loss: 0.0024\n",
            "Epoch 28/50\n",
            "\u001b[1m70/70\u001b[0m \u001b[32m━━━━━━━━━━━━━━━━━━━━\u001b[0m\u001b[37m\u001b[0m \u001b[1m0s\u001b[0m 3ms/step - accuracy: 0.9996 - loss: 0.0014 - val_accuracy: 1.0000 - val_loss: 0.0014\n",
            "Epoch 29/50\n",
            "\u001b[1m70/70\u001b[0m \u001b[32m━━━━━━━━━━━━━━━━━━━━\u001b[0m\u001b[37m\u001b[0m \u001b[1m0s\u001b[0m 3ms/step - accuracy: 0.9983 - loss: 0.0027 - val_accuracy: 1.0000 - val_loss: 6.0569e-04\n",
            "Epoch 30/50\n",
            "\u001b[1m70/70\u001b[0m \u001b[32m━━━━━━━━━━━━━━━━━━━━\u001b[0m\u001b[37m\u001b[0m \u001b[1m0s\u001b[0m 4ms/step - accuracy: 0.9996 - loss: 0.0027 - val_accuracy: 1.0000 - val_loss: 0.0014\n",
            "Epoch 31/50\n",
            "\u001b[1m70/70\u001b[0m \u001b[32m━━━━━━━━━━━━━━━━━━━━\u001b[0m\u001b[37m\u001b[0m \u001b[1m0s\u001b[0m 4ms/step - accuracy: 0.9987 - loss: 0.0039 - val_accuracy: 1.0000 - val_loss: 0.0010\n",
            "Epoch 32/50\n",
            "\u001b[1m70/70\u001b[0m \u001b[32m━━━━━━━━━━━━━━━━━━━━\u001b[0m\u001b[37m\u001b[0m \u001b[1m0s\u001b[0m 3ms/step - accuracy: 1.0000 - loss: 8.7088e-04 - val_accuracy: 1.0000 - val_loss: 0.0026\n",
            "Epoch 33/50\n",
            "\u001b[1m70/70\u001b[0m \u001b[32m━━━━━━━━━━━━━━━━━━━━\u001b[0m\u001b[37m\u001b[0m \u001b[1m0s\u001b[0m 3ms/step - accuracy: 0.9993 - loss: 0.0015 - val_accuracy: 1.0000 - val_loss: 7.3136e-04\n",
            "Epoch 34/50\n",
            "\u001b[1m70/70\u001b[0m \u001b[32m━━━━━━━━━━━━━━━━━━━━\u001b[0m\u001b[37m\u001b[0m \u001b[1m0s\u001b[0m 5ms/step - accuracy: 0.9996 - loss: 0.0016 - val_accuracy: 0.9964 - val_loss: 0.0053\n",
            "Epoch 35/50\n",
            "\u001b[1m70/70\u001b[0m \u001b[32m━━━━━━━━━━━━━━━━━━━━\u001b[0m\u001b[37m\u001b[0m \u001b[1m0s\u001b[0m 4ms/step - accuracy: 1.0000 - loss: 9.2673e-04 - val_accuracy: 1.0000 - val_loss: 8.7886e-04\n",
            "Epoch 36/50\n",
            "\u001b[1m70/70\u001b[0m \u001b[32m━━━━━━━━━━━━━━━━━━━━\u001b[0m\u001b[37m\u001b[0m \u001b[1m0s\u001b[0m 4ms/step - accuracy: 1.0000 - loss: 7.7289e-04 - val_accuracy: 1.0000 - val_loss: 7.9599e-04\n",
            "Epoch 37/50\n",
            "\u001b[1m70/70\u001b[0m \u001b[32m━━━━━━━━━━━━━━━━━━━━\u001b[0m\u001b[37m\u001b[0m \u001b[1m0s\u001b[0m 4ms/step - accuracy: 0.9984 - loss: 0.0020 - val_accuracy: 0.9982 - val_loss: 0.0044\n",
            "Epoch 38/50\n",
            "\u001b[1m70/70\u001b[0m \u001b[32m━━━━━━━━━━━━━━━━━━━━\u001b[0m\u001b[37m\u001b[0m \u001b[1m0s\u001b[0m 4ms/step - accuracy: 0.9980 - loss: 0.0063 - val_accuracy: 1.0000 - val_loss: 6.4309e-04\n",
            "Epoch 39/50\n",
            "\u001b[1m70/70\u001b[0m \u001b[32m━━━━━━━━━━━━━━━━━━━━\u001b[0m\u001b[37m\u001b[0m \u001b[1m0s\u001b[0m 3ms/step - accuracy: 0.9994 - loss: 0.0017 - val_accuracy: 1.0000 - val_loss: 3.1343e-04\n",
            "Epoch 40/50\n",
            "\u001b[1m70/70\u001b[0m \u001b[32m━━━━━━━━━━━━━━━━━━━━\u001b[0m\u001b[37m\u001b[0m \u001b[1m0s\u001b[0m 3ms/step - accuracy: 1.0000 - loss: 4.7493e-04 - val_accuracy: 1.0000 - val_loss: 2.8007e-04\n",
            "Epoch 41/50\n",
            "\u001b[1m70/70\u001b[0m \u001b[32m━━━━━━━━━━━━━━━━━━━━\u001b[0m\u001b[37m\u001b[0m \u001b[1m0s\u001b[0m 5ms/step - accuracy: 0.9998 - loss: 6.7003e-04 - val_accuracy: 1.0000 - val_loss: 6.3327e-04\n",
            "Epoch 42/50\n",
            "\u001b[1m70/70\u001b[0m \u001b[32m━━━━━━━━━━━━━━━━━━━━\u001b[0m\u001b[37m\u001b[0m \u001b[1m1s\u001b[0m 6ms/step - accuracy: 0.9992 - loss: 0.0078 - val_accuracy: 1.0000 - val_loss: 2.2724e-04\n",
            "Epoch 43/50\n",
            "\u001b[1m70/70\u001b[0m \u001b[32m━━━━━━━━━━━━━━━━━━━━\u001b[0m\u001b[37m\u001b[0m \u001b[1m1s\u001b[0m 6ms/step - accuracy: 1.0000 - loss: 7.0954e-04 - val_accuracy: 1.0000 - val_loss: 8.1987e-04\n",
            "Epoch 44/50\n",
            "\u001b[1m70/70\u001b[0m \u001b[32m━━━━━━━━━━━━━━━━━━━━\u001b[0m\u001b[37m\u001b[0m \u001b[1m0s\u001b[0m 4ms/step - accuracy: 0.9970 - loss: 0.0103 - val_accuracy: 1.0000 - val_loss: 0.0012\n",
            "Epoch 45/50\n",
            "\u001b[1m70/70\u001b[0m \u001b[32m━━━━━━━━━━━━━━━━━━━━\u001b[0m\u001b[37m\u001b[0m \u001b[1m1s\u001b[0m 4ms/step - accuracy: 1.0000 - loss: 0.0012 - val_accuracy: 1.0000 - val_loss: 7.1927e-04\n",
            "Epoch 46/50\n",
            "\u001b[1m70/70\u001b[0m \u001b[32m━━━━━━━━━━━━━━━━━━━━\u001b[0m\u001b[37m\u001b[0m \u001b[1m0s\u001b[0m 3ms/step - accuracy: 1.0000 - loss: 2.2647e-04 - val_accuracy: 1.0000 - val_loss: 0.0018\n",
            "Epoch 47/50\n",
            "\u001b[1m70/70\u001b[0m \u001b[32m━━━━━━━━━━━━━━━━━━━━\u001b[0m\u001b[37m\u001b[0m \u001b[1m0s\u001b[0m 3ms/step - accuracy: 1.0000 - loss: 8.4416e-04 - val_accuracy: 0.9982 - val_loss: 0.0017\n",
            "Epoch 48/50\n",
            "\u001b[1m70/70\u001b[0m \u001b[32m━━━━━━━━━━━━━━━━━━━━\u001b[0m\u001b[37m\u001b[0m \u001b[1m0s\u001b[0m 4ms/step - accuracy: 1.0000 - loss: 3.4383e-04 - val_accuracy: 1.0000 - val_loss: 0.0013\n",
            "Epoch 49/50\n",
            "\u001b[1m70/70\u001b[0m \u001b[32m━━━━━━━━━━━━━━━━━━━━\u001b[0m\u001b[37m\u001b[0m \u001b[1m0s\u001b[0m 3ms/step - accuracy: 0.9987 - loss: 0.0050 - val_accuracy: 0.9982 - val_loss: 0.0044\n",
            "Epoch 50/50\n",
            "\u001b[1m70/70\u001b[0m \u001b[32m━━━━━━━━━━━━━━━━━━━━\u001b[0m\u001b[37m\u001b[0m \u001b[1m0s\u001b[0m 3ms/step - accuracy: 0.9983 - loss: 0.0077 - val_accuracy: 0.9929 - val_loss: 0.0268\n"
          ]
        }
      ]
    },
    {
      "cell_type": "markdown",
      "source": [
        "**Оценка качества модели на тестовых данных**\n",
        "\n",
        "Предсказания:\n",
        "\n",
        "- model.predict(X_test_scaled) — получаем вероятности принадлежности к каждому классу.\n",
        "\n",
        "- np.argmax(..., axis=1) — выбираем класс с наибольшей вероятностью для каждого примера.\n",
        "\n",
        "Оценка:\n",
        "\n",
        "- accuracy_score — вычисляет точность (процент правильно классифицированных эмоций).\n",
        "\n",
        "- classification_report — показывает подробную метрику для каждого класса:"
      ],
      "metadata": {
        "id": "jbpf0rD-TOQT"
      }
    },
    {
      "cell_type": "code",
      "source": [
        "# Предсказания на тесте\n",
        "y_pred_probs = model.predict(X_test_scaled)\n",
        "y_pred = np.argmax(y_pred_probs, axis=1)\n",
        "\n",
        "# Оценка качества\n",
        "print(f\"Accuracy on test: {accuracy_score(y_test, y_pred)*100:.2f}%\")\n",
        "print(classification_report(y_test, y_pred, target_names=EMOTIONS.keys()))"
      ],
      "metadata": {
        "colab": {
          "base_uri": "https://localhost:8080/"
        },
        "id": "AnoPdt8SiooG",
        "outputId": "e0859188-d54f-4a5f-da4b-4c610f561709"
      },
      "execution_count": null,
      "outputs": [
        {
          "output_type": "stream",
          "name": "stdout",
          "text": [
            "\u001b[1m18/18\u001b[0m \u001b[32m━━━━━━━━━━━━━━━━━━━━\u001b[0m\u001b[37m\u001b[0m \u001b[1m0s\u001b[0m 4ms/step \n",
            "Accuracy on test: 99.29%\n",
            "              precision    recall  f1-score   support\n",
            "\n",
            "       angry       0.96      1.00      0.98        80\n",
            "     disgust       1.00      1.00      1.00        80\n",
            "        fear       1.00      1.00      1.00        80\n",
            "       happy       0.99      1.00      0.99        80\n",
            "     neutral       1.00      1.00      1.00        80\n",
            "          ps       1.00      0.95      0.97        80\n",
            "         sad       1.00      1.00      1.00        80\n",
            "\n",
            "    accuracy                           0.99       560\n",
            "   macro avg       0.99      0.99      0.99       560\n",
            "weighted avg       0.99      0.99      0.99       560\n",
            "\n"
          ]
        }
      ]
    },
    {
      "cell_type": "markdown",
      "source": [
        "**Визуализация метрик обучения**\n",
        "\n",
        "Этот код строит графики, показывающие, как модель обучалась:\n",
        "\n",
        "Первый график — точность (accuracy) по эпохам:\n",
        "\n",
        "- Сравниваются значения на обучающей и валидационной выборках.\n",
        "\n",
        "- Помогает понять, насколько хорошо модель учится и не переобучается ли.\n",
        "\n",
        "Второй график — функция потерь (loss):\n",
        "\n",
        "- Также сравнивается обучение и валидация.\n",
        "\n",
        "- Позволяет оценить стабильность процесса обучения.\n",
        "\n",
        "plt.tight_layout() обеспечивает аккуратное размещение графиков без наложения."
      ],
      "metadata": {
        "id": "CyqU8mR1TXCe"
      }
    },
    {
      "cell_type": "code",
      "source": [
        "# Визуализация метрик\n",
        "plt.figure(figsize=(12, 4))\n",
        "\n",
        "# Строим график точности на обучающей выборке по эпохам\n",
        "plt.subplot(1, 2, 1)\n",
        "plt.plot(history.history['accuracy'], label='Точность на обучении')\n",
        "plt.plot(history.history['val_accuracy'], label='Точность на валидации')\n",
        "plt.title('Точность по эпохам')\n",
        "plt.xlabel('Эпоха')\n",
        "plt.ylabel('Точность')\n",
        "plt.legend()\n",
        "plt.grid(True)\n",
        "\n",
        "# Создаем второй подграфик для отображения функции потерь\n",
        "plt.subplot(1, 2, 2)\n",
        "plt.plot(history.history['loss'], label='Потери на обучении')\n",
        "plt.plot(history.history['val_loss'], label='Потери на валидации')\n",
        "plt.title('Потери по эпохам')\n",
        "plt.xlabel('Эпоха')\n",
        "plt.ylabel('Потери')\n",
        "plt.legend()\n",
        "plt.grid(True)\n",
        "\n",
        "plt.tight_layout()\n",
        "plt.show()"
      ],
      "metadata": {
        "colab": {
          "base_uri": "https://localhost:8080/",
          "height": 427
        },
        "id": "3d73ez8Ci19F",
        "outputId": "b85077f1-fe1b-4fd4-9324-770bb5893eda"
      },
      "execution_count": null,
      "outputs": [
        {
          "output_type": "display_data",
          "data": {
            "text/plain": [
              "<Figure size 1200x400 with 2 Axes>"
            ],
            "image/png": "[encoded data removed]"
          },
          "metadata": {}
        }
      ]
    },
    {
      "cell_type": "markdown",
      "source": [
        "**Построение матрицы ошибок**\n",
        "\n",
        "Этот код визуализирует матрицу ошибок, которая показывает, как модель путает эмоции:\n",
        "\n",
        "- confusion_matrix(y_test, y_pred) — создаёт таблицу, где по строкам — истинные метки, по столбцам — предсказанные.\n",
        "\n",
        "- sns.heatmap(...) — строит тепловую карту/"
      ],
      "metadata": {
        "id": "J_bEK1_QTiWd"
      }
    },
    {
      "cell_type": "code",
      "source": [
        "# Матрица ошибок\n",
        "cm = confusion_matrix(y_test, y_pred)\n",
        "plt.figure(figsize=(8, 6))\n",
        "sns.heatmap(cm, annot=True, fmt='d', cmap='Blues',\n",
        "            xticklabels=EMOTIONS.keys(),\n",
        "            yticklabels=EMOTIONS.keys())\n",
        "plt.title('Матрица ошибок')\n",
        "plt.xlabel('Предсказано')\n",
        "plt.ylabel('Истинные значения')\n",
        "plt.show()"
      ],
      "metadata": {
        "colab": {
          "base_uri": "https://localhost:8080/",
          "height": 564
        },
        "id": "s8c93wbjCq0_",
        "outputId": "c566bac7-c90e-452a-9168-f6739a46cf4d"
      },
      "execution_count": null,
      "outputs": [
        {
          "output_type": "display_data",
          "data": {
            "text/plain": [
              "<Figure size 800x600 with 2 Axes>"
            ],
            "image/png": "[encoded data removed]"
          },
          "metadata": {}
        }
      ]
    },
    {
      "cell_type": "markdown",
      "source": [
        "# Датасет Surrey Audio-Visual Expressed Emotion (SAVEE)\n",
        "\n",
        "Здесь модель тестируется на новых данных из другого набора — SAVEE:\n",
        "\n",
        "- Скачивание и распаковка архива.\n",
        "\n",
        "- Получаем список .wav-файлов из директории ALL.\n",
        "\n",
        "Для первых 10 файлов:\n",
        "\n",
        "- Загружаем аудио и извлекаем MFCC-признаки (аналогично обработке TESS).\n",
        "\n",
        "- Усредняем признаки по времени.\n",
        "\n",
        "- Масштабируем признаки тем же scaler, который использовался при обучении модели.\n",
        "\n",
        "- Прогоняем данные через модель и получаем предсказания.\n",
        "\n",
        "- Выводим номера предсказанных классов эмоций (y_pred_labels)."
      ],
      "metadata": {
        "id": "_WFVrfdOUfXW"
      }
    },
    {
      "cell_type": "code",
      "source": [
        "# Распаковка архива\n",
        "!gdown https://storage.yandexcloud.net/aiueducation/Content/base/l12/archive.zip\n",
        "\n",
        "# Пример обработки SAVEE\n",
        "savee_dir = \"ALL\"  # или другой путь, в зависимости от распаковки\n",
        "savee_files = [f for f in os.listdir(savee_dir) if f.endswith('.wav')]\n",
        "\n",
        "X_savee = []\n",
        "\n",
        "for f in savee_files[:10]:  # Пример: 10 файлов\n",
        "    path = os.path.join(savee_dir, f)\n",
        "    audio_data, sample_rate = librosa.load(path, sr=22050)\n",
        "    mfccs = librosa.feature.mfcc(y=audio_data, sr=sample_rate, n_mfcc=40)\n",
        "    mfcc_avg = np.mean(mfccs.T, axis=0)\n",
        "    X_savee.append(mfcc_avg)\n",
        "\n",
        "X_savee = scaler.transform(X_savee)  # масштабирование, как на обучении\n",
        "y_pred_savee = model.predict(X_savee)\n",
        "y_pred_labels = np.argmax(y_pred_savee, axis=1)\n",
        "\n",
        "print(\"Предсказанные эмоции для файлов SAVEE:\", y_pred_labels)"
      ],
      "metadata": {
        "colab": {
          "base_uri": "https://localhost:8080/"
        },
        "id": "H1N1IN7FUcSd",
        "outputId": "cb731729-a482-48ae-b421-d6ef53707d7d"
      },
      "execution_count": null,
      "outputs": [
        {
          "output_type": "stream",
          "name": "stdout",
          "text": [
            "Downloading...\n",
            "From: https://storage.yandexcloud.net/aiueducation/Content/base/l12/archive.zip\n",
            "To: /content/archive.zip\n",
            "100% 113M/113M [00:12<00:00, 8.93MB/s]\n",
            "\u001b[1m1/1\u001b[0m \u001b[32m━━━━━━━━━━━━━━━━━━━━\u001b[0m\u001b[37m\u001b[0m \u001b[1m0s\u001b[0m 142ms/step\n",
            "Предсказанные эмоции для файлов SAVEE: [1 1 1 1 1 1 1 1 1 1]\n"
          ]
        }
      ]
    },
    {
      "cell_type": "markdown",
      "source": [
        "**Обработка полного набора аудиофайлов из SAVEE**\n",
        "\n",
        "В этом фрагменте производится полноценная загрузка и обработка аудиофайлов из датасета SAVEE:\n",
        "\n",
        "- Проходим по всем .wav-файлам в папке savee_dir.\n",
        "\n",
        "- Из имени файла извлекается код эмоции с помощью регулярного выражения.\n",
        "\n",
        "- Если код входит в EMO_MAP (предварительно определённый словарь соответствия), файл обрабатывается: загружается аудио с помощью librosa. Извлекаются MFCC-признаки и усредняются по времени.\n",
        "\n",
        "- Признаки и метка добавляются в соответствующие списки.\n",
        "\n",
        "- В конце данные преобразуются в массивы NumPy для дальнейшей работы с моделью."
      ],
      "metadata": {
        "id": "4AxrO5BPUSNu"
      }
    },
    {
      "cell_type": "code",
      "source": [
        "X_savee = []  # Список для MFCC-признаков аудиофайлов\n",
        "y_savee = []  # Список для меток эмоций\n",
        "\n",
        "# Проход по всем файлам в папке с аудио из датасета SAVEE\n",
        "for fname in os.listdir(savee_dir):\n",
        "    if not fname.endswith('.wav'):\n",
        "        continue  # Пропускаем не WAV-файлы\n",
        "\n",
        "    # Извлекаем код эмоции из имени файла (например, '_hap34.wav' → 'hap')\n",
        "    match = re.search(r'_([a-z]+)\\d+', fname.lower())\n",
        "    if not match:\n",
        "        continue\n",
        "\n",
        "    emo_code = match.group(1)\n",
        "\n",
        "    # Пропускаем эмоции, которых нет в словаре соответствия EMO_MAP\n",
        "    if emo_code not in EMO_MAP:\n",
        "        continue\n",
        "\n",
        "    label = EMO_MAP[emo_code]  # Преобразуем код эмоции в числовую метку\n",
        "    path = os.path.join(savee_dir, fname)  # Полный путь к аудиофайлу\n",
        "\n",
        "    try:\n",
        "        # Загрузка аудио, ресемплирование до 22050 Гц\n",
        "        audio, sr = librosa.load(path, sr=22050)\n",
        "\n",
        "        # Вычисление MFCC-признаков (40 коэффициентов)\n",
        "        mfcc = librosa.feature.mfcc(y=audio, sr=sr, n_mfcc=40)\n",
        "\n",
        "        # Усреднение MFCC по времени для получения фиксированной длины признаков\n",
        "        mfcc_mean = np.mean(mfcc.T, axis=0)\n",
        "\n",
        "        # Добавляем признаки и метку в список\n",
        "        X_savee.append(mfcc_mean)\n",
        "        y_savee.append(label)\n",
        "\n",
        "    except Exception as e:\n",
        "        print(f\"Ошибка при обработке {fname}: {e}\")\n",
        "\n",
        "# Преобразуем списки в numpy-массивы\n",
        "X_savee = np.array(X_savee)\n",
        "y_savee = np.array(y_savee)\n",
        "\n",
        "print(f\"Загружено и обработано {len(X_savee)} файлов из SAVEE\")"
      ],
      "metadata": {
        "colab": {
          "base_uri": "https://localhost:8080/"
        },
        "id": "Nz_oR_pogG_1",
        "outputId": "e3261c3a-c509-4a25-8293-90bf1616a2c9"
      },
      "execution_count": null,
      "outputs": [
        {
          "output_type": "stream",
          "name": "stdout",
          "text": [
            "Загружено и обработано 480 файлов из SAVEE\n"
          ]
        }
      ]
    },
    {
      "cell_type": "markdown",
      "source": [
        "**Предсказание эмоций на датасете SAVEE**\n",
        "\n",
        "Масштабирование:\n",
        "\n",
        "- X_savee_scaled = scaler.transform(X_savee) — признаки масштабируются тем же StandardScaler, что и при обучении модели, чтобы сохранить совместимость.\n",
        "\n",
        "Предсказание:\n",
        "\n",
        "- model.predict(...) — нейросеть выдаёт вероятности по всем классам.\n",
        "\n",
        "- np.argmax(..., axis=1) — выбирается класс с наибольшей вероятностью для каждого аудиофайла."
      ],
      "metadata": {
        "id": "AFcWvIeqUffN"
      }
    },
    {
      "cell_type": "code",
      "source": [
        "# Используем тот же scaler, что обучался на TESS\n",
        "X_savee_scaled = scaler.transform(X_savee)\n",
        "\n",
        "# Предсказание\n",
        "y_pred_savee_probs = model.predict(X_savee_scaled)\n",
        "y_pred_savee = np.argmax(y_pred_savee_probs, axis=1)"
      ],
      "metadata": {
        "colab": {
          "base_uri": "https://localhost:8080/"
        },
        "id": "-Pp1Eqt8f7bE",
        "outputId": "934b28a6-e499-4031-e778-58399dd26df1"
      },
      "execution_count": null,
      "outputs": [
        {
          "output_type": "stream",
          "name": "stdout",
          "text": [
            "\u001b[1m15/15\u001b[0m \u001b[32m━━━━━━━━━━━━━━━━━━━━\u001b[0m\u001b[37m\u001b[0m \u001b[1m0s\u001b[0m 3ms/step \n"
          ]
        }
      ]
    },
    {
      "cell_type": "markdown",
      "source": [
        "Далее роводится полная оценка качества работы модели на другом датасете — SAVEE:\n",
        "\n",
        "Точность:\n",
        "\n",
        "- accuracy_score(...) — рассчитывается процент правильно угаданных эмоций.\n",
        "\n",
        "- Выводится в понятной форме.\n",
        "\n",
        "Отчёт классификации:\n",
        "\n",
        "- classification_report(...) — показывает precision, recall и F1-score по каждой эмоции.\n",
        "\n",
        "- Используются названия эмоций из словаря EMOTIONS.\n",
        "\n",
        "Матрица ошибок:\n",
        "\n",
        "- confusion_matrix(...) — даёт представление о том, какие эмоции чаще всего путаются.\n",
        "\n",
        "- seaborn.heatmap(...) визуализирует её с помощью фиолетовой цветовой схемы (Purples)"
      ],
      "metadata": {
        "id": "dtWRRgPLUr9d"
      }
    },
    {
      "cell_type": "code",
      "source": [
        "# Вычисляем точность предсказаний модели на данных SAVEE\n",
        "acc = accuracy_score(y_savee, y_pred_savee)\n",
        "print(f\"Точность на SAVEE: {acc * 100:.2f}%\")\n",
        "\n",
        "# Выводим отчет по классификации модели на данных SAVEE\n",
        "print(\"Отчет классификации на SAVEE:\")\n",
        "print(classification_report(y_savee, y_pred_savee, target_names=EMOTIONS.keys()))\n",
        "\n",
        "# Строим матрицу ошибок, показывающую, сколько объектов каждого класса модель правильно или неправильно классифицировала\n",
        "cm_savee = confusion_matrix(y_savee, y_pred_savee)\n",
        "\n",
        "# Визуализируем матрицу ошибок с помощью тепловой карты seaborn\n",
        "plt.figure(figsize=(8, 6))\n",
        "sns.heatmap(cm_savee, annot=True, fmt='d', cmap='Purples',\n",
        "            xticklabels=EMOTIONS.keys(),\n",
        "            yticklabels=EMOTIONS.keys())\n",
        "plt.title('Матрица ошибок (SAVEE)')\n",
        "plt.xlabel('Предсказано')\n",
        "plt.ylabel('Истинные значения')\n",
        "plt.show()"
      ],
      "metadata": {
        "colab": {
          "base_uri": "https://localhost:8080/",
          "height": 966
        },
        "id": "zsG2_IxlghdY",
        "outputId": "109ad26c-573b-4144-ba5d-d07c34e28e81"
      },
      "execution_count": null,
      "outputs": [
        {
          "output_type": "stream",
          "name": "stdout",
          "text": [
            "Точность на SAVEE: 14.58%\n",
            "Отчет классификации на SAVEE:\n",
            "              precision    recall  f1-score   support\n",
            "\n",
            "       angry       0.00      0.00      0.00        60\n",
            "     disgust       0.14      0.93      0.25        60\n",
            "        fear       0.00      0.00      0.00        60\n",
            "       happy       0.19      0.13      0.16        60\n",
            "     neutral       0.00      0.00      0.00       120\n",
            "          ps       0.00      0.00      0.00        60\n",
            "         sad       0.33      0.10      0.15        60\n",
            "\n",
            "    accuracy                           0.15       480\n",
            "   macro avg       0.10      0.17      0.08       480\n",
            "weighted avg       0.08      0.15      0.07       480\n",
            "\n"
          ]
        },
        {
          "output_type": "display_data",
          "data": {
            "text/plain": [
              "<Figure size 800x600 with 2 Axes>"
            ],
            "image/png": "[encoded data removed]"
          },
          "metadata": {}
        }
      ]
    },
    {
      "cell_type": "markdown",
      "source": [
        "# Вывод по заданию\n",
        "\n",
        "В результате работы можно сделать вывод по заданию: был проведён полный цикл\n",
        "работы с двумя датасетами эмоциональной речи: TESS и SAVEE. На основе\n",
        "первого из них (TESS) была построена модель классификации эмоций на\n",
        "основе акустических признаков (MFCC), которая успешно прошла проверку\n",
        "на тестовой выборке, показав точность выше 98%. Это свидетельствует о том,\n",
        "что внутри одного датасета, где дикторы, стиль речи и условия записи\n",
        "однородны, модель способна эффективно различать эмоциональные\n",
        "состояния.\n",
        "После этого модель была протестирована на другом наборе данных —\n",
        "SAVEE, который содержит записи других дикторов. Несмотря на техническую\n",
        "совместимость признаков, модель показала крайне низкую точность\n",
        "распознавания (около 15%). Это демонстрирует важную проблему: модели,\n",
        "обученные на одном аудиодатасете, плохо обобщаются на другой без\n",
        "адаптации. Такие различия, как пол диктора, акцент, интонационные\n",
        "особенности и стиль подачи эмоций, серьёзно влияют на результат.\n",
        "Таким образом, можно сделать вывод, что для построения\n",
        "универсальной системы распознавания эмоций по речи необходима либо\n",
        "дообучаемая модель с возможностью адаптации, либо объединённая\n",
        "обучающая выборка, включающая широкий спектр дикторов и\n",
        "эмоциональных выражений."
      ],
      "metadata": {
        "id": "I-Pblt4oU9Xr"
      }
    }
  ]
}